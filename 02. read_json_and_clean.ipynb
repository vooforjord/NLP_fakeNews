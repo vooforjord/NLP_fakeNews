{
 "cells": [
  {
   "cell_type": "code",
   "execution_count": 1,
   "metadata": {},
   "outputs": [],
   "source": [
    "import json\n",
    "import pandas as pd\n",
    "import numpy as np\n",
    "import matplotlib.pyplot as plt\n",
    "% matplotlib inline"
   ]
  },
  {
   "cell_type": "code",
   "execution_count": 2,
   "metadata": {},
   "outputs": [],
   "source": [
    "fname = '../saved_files/scraped_articles.json'"
   ]
  },
  {
   "cell_type": "code",
   "execution_count": 3,
   "metadata": {},
   "outputs": [],
   "source": [
    "with open(fname) as json_data:\n",
    "    d = json.load(json_data)"
   ]
  },
  {
   "cell_type": "markdown",
   "metadata": {},
   "source": [
    "These are the sources that we specified to download from in **NewsPapers.json**."
   ]
  },
  {
   "cell_type": "code",
   "execution_count": 4,
   "metadata": {},
   "outputs": [
    {
     "name": "stdout",
     "output_type": "stream",
     "text": [
      "0 newyorktimes_business\n",
      "1 newyorktimes_science\n",
      "2 newyorktimes_technology\n",
      "3 cnnmoney\n",
      "4 marketwatch_newsletters\n"
     ]
    }
   ],
   "source": [
    "for i, site in enumerate((list(d['newspapers'])[:5])):\n",
    "    print(i, site)"
   ]
  },
  {
   "cell_type": "code",
   "execution_count": 5,
   "metadata": {},
   "outputs": [],
   "source": [
    "# create a dataframe, with all of the articles, one row per article\n",
    "\n",
    "for i, site in enumerate((list(d['newspapers']))):\n",
    "    articles = list(d['newspapers'][site]['articles'])\n",
    "    if i == 0:\n",
    "        df = pd.DataFrame.from_dict(articles)\n",
    "    else:\n",
    "        new_df = pd.DataFrame.from_dict(articles)\n",
    "        df = pd.concat([df, new_df], ignore_index = True)"
   ]
  },
  {
   "cell_type": "code",
   "execution_count": 6,
   "metadata": {},
   "outputs": [
    {
     "data": {
      "text/plain": [
       "(631, 5)"
      ]
     },
     "execution_count": 6,
     "metadata": {},
     "output_type": "execute_result"
    }
   ],
   "source": [
    "df.shape"
   ]
  },
  {
   "cell_type": "code",
   "execution_count": 7,
   "metadata": {},
   "outputs": [
    {
     "data": {
      "text/html": [
       "<div>\n",
       "<style scoped>\n",
       "    .dataframe tbody tr th:only-of-type {\n",
       "        vertical-align: middle;\n",
       "    }\n",
       "\n",
       "    .dataframe tbody tr th {\n",
       "        vertical-align: top;\n",
       "    }\n",
       "\n",
       "    .dataframe thead th {\n",
       "        text-align: right;\n",
       "    }\n",
       "</style>\n",
       "<table border=\"1\" class=\"dataframe\">\n",
       "  <thead>\n",
       "    <tr style=\"text-align: right;\">\n",
       "      <th></th>\n",
       "      <th>author</th>\n",
       "      <th>link</th>\n",
       "      <th>published</th>\n",
       "      <th>text</th>\n",
       "      <th>title</th>\n",
       "    </tr>\n",
       "  </thead>\n",
       "  <tbody>\n",
       "    <tr>\n",
       "      <th>0</th>\n",
       "      <td>[David Streitfeld, Natasha Singer, Steven Erla...</td>\n",
       "      <td>https://www.nytimes.com/2018/03/24/technology/...</td>\n",
       "      <td>2018-03-24T20:43:21</td>\n",
       "      <td>There are other avenues still, said Jascha Kay...</td>\n",
       "      <td>How Calls for Privacy May Upend Business for F...</td>\n",
       "    </tr>\n",
       "    <tr>\n",
       "      <th>1</th>\n",
       "      <td>[Emily Flitter]</td>\n",
       "      <td>https://www.nytimes.com/2018/03/24/business/we...</td>\n",
       "      <td>2018-03-24T17:16:53</td>\n",
       "      <td>And so Mr. Tran, who is in his mid-50s and spe...</td>\n",
       "      <td>The Former Khmer Rouge Slave Who Blew the Whis...</td>\n",
       "    </tr>\n",
       "    <tr>\n",
       "      <th>2</th>\n",
       "      <td>[Keith Bradsher]</td>\n",
       "      <td>https://www.nytimes.com/2018/03/25/business/ch...</td>\n",
       "      <td>2018-03-25T15:21:56</td>\n",
       "      <td>In that analogy, Mr. Guo will essentially beco...</td>\n",
       "      <td>China Splits Top Jobs at Central Bank, Adding ...</td>\n",
       "    </tr>\n",
       "    <tr>\n",
       "      <th>3</th>\n",
       "      <td>[Ben Casselman]</td>\n",
       "      <td>https://www.nytimes.com/2018/03/24/business/jo...</td>\n",
       "      <td>2018-03-25T03:00:18</td>\n",
       "      <td>News of Mr. Williams’s likely selection was fi...</td>\n",
       "      <td>A Top Candidate for New York Fed’s Leader: San...</td>\n",
       "    </tr>\n",
       "    <tr>\n",
       "      <th>4</th>\n",
       "      <td>[Jim Tankersley]</td>\n",
       "      <td>https://www.nytimes.com/2018/03/24/business/tr...</td>\n",
       "      <td>2018-03-24T14:34:10</td>\n",
       "      <td>What is increasingly clear to many on Capitol ...</td>\n",
       "      <td>Trump’s Tariffs Keep Allies, Markets and Indus...</td>\n",
       "    </tr>\n",
       "  </tbody>\n",
       "</table>\n",
       "</div>"
      ],
      "text/plain": [
       "                                              author  \\\n",
       "0  [David Streitfeld, Natasha Singer, Steven Erla...   \n",
       "1                                    [Emily Flitter]   \n",
       "2                                   [Keith Bradsher]   \n",
       "3                                    [Ben Casselman]   \n",
       "4                                   [Jim Tankersley]   \n",
       "\n",
       "                                                link            published  \\\n",
       "0  https://www.nytimes.com/2018/03/24/technology/...  2018-03-24T20:43:21   \n",
       "1  https://www.nytimes.com/2018/03/24/business/we...  2018-03-24T17:16:53   \n",
       "2  https://www.nytimes.com/2018/03/25/business/ch...  2018-03-25T15:21:56   \n",
       "3  https://www.nytimes.com/2018/03/24/business/jo...  2018-03-25T03:00:18   \n",
       "4  https://www.nytimes.com/2018/03/24/business/tr...  2018-03-24T14:34:10   \n",
       "\n",
       "                                                text  \\\n",
       "0  There are other avenues still, said Jascha Kay...   \n",
       "1  And so Mr. Tran, who is in his mid-50s and spe...   \n",
       "2  In that analogy, Mr. Guo will essentially beco...   \n",
       "3  News of Mr. Williams’s likely selection was fi...   \n",
       "4  What is increasingly clear to many on Capitol ...   \n",
       "\n",
       "                                               title  \n",
       "0  How Calls for Privacy May Upend Business for F...  \n",
       "1  The Former Khmer Rouge Slave Who Blew the Whis...  \n",
       "2  China Splits Top Jobs at Central Bank, Adding ...  \n",
       "3  A Top Candidate for New York Fed’s Leader: San...  \n",
       "4  Trump’s Tariffs Keep Allies, Markets and Indus...  "
      ]
     },
     "execution_count": 7,
     "metadata": {},
     "output_type": "execute_result"
    }
   ],
   "source": [
    "df.head()"
   ]
  },
  {
   "cell_type": "code",
   "execution_count": 8,
   "metadata": {},
   "outputs": [],
   "source": [
    "df.to_pickle('/mnt/c/Users/echan/spam_project/saved_files/dirty_df.pkl')"
   ]
  },
  {
   "cell_type": "code",
   "execution_count": 9,
   "metadata": {},
   "outputs": [],
   "source": [
    "# list of spam sites\n",
    "spam = list(d['newspapers'])[-11:]"
   ]
  },
  {
   "cell_type": "code",
   "execution_count": 10,
   "metadata": {},
   "outputs": [],
   "source": [
    "# create a column for the label of the article, a label of 0 is ham, a label of 1 is spam\n",
    "df['label'] = 0"
   ]
  },
  {
   "cell_type": "code",
   "execution_count": 11,
   "metadata": {},
   "outputs": [],
   "source": [
    "for i, site in enumerate(spam):\n",
    "    df.loc[df['link'].str.contains('{}'.format(site)), 'label'] = 1"
   ]
  },
  {
   "cell_type": "code",
   "execution_count": 12,
   "metadata": {},
   "outputs": [
    {
     "data": {
      "text/html": [
       "<div>\n",
       "<style scoped>\n",
       "    .dataframe tbody tr th:only-of-type {\n",
       "        vertical-align: middle;\n",
       "    }\n",
       "\n",
       "    .dataframe tbody tr th {\n",
       "        vertical-align: top;\n",
       "    }\n",
       "\n",
       "    .dataframe thead th {\n",
       "        text-align: right;\n",
       "    }\n",
       "</style>\n",
       "<table border=\"1\" class=\"dataframe\">\n",
       "  <thead>\n",
       "    <tr style=\"text-align: right;\">\n",
       "      <th></th>\n",
       "      <th>title</th>\n",
       "    </tr>\n",
       "    <tr>\n",
       "      <th>label</th>\n",
       "      <th></th>\n",
       "    </tr>\n",
       "  </thead>\n",
       "  <tbody>\n",
       "    <tr>\n",
       "      <th>0</th>\n",
       "      <td>463</td>\n",
       "    </tr>\n",
       "    <tr>\n",
       "      <th>1</th>\n",
       "      <td>168</td>\n",
       "    </tr>\n",
       "  </tbody>\n",
       "</table>\n",
       "</div>"
      ],
      "text/plain": [
       "       title\n",
       "label       \n",
       "0        463\n",
       "1        168"
      ]
     },
     "execution_count": 12,
     "metadata": {},
     "output_type": "execute_result"
    }
   ],
   "source": [
    "# 463 non spam articles, 168 spam articles\n",
    "df[['title', 'label']].groupby('label').agg('count')"
   ]
  },
  {
   "cell_type": "markdown",
   "metadata": {},
   "source": [
    "Prepare the articles and titles for modeling by cleaning them. Things done in the cleaning process: \n",
    "- remove stopwords \n",
    "- convert to lowercase \n",
    "- remove punctuation \n",
    "- remove numbers "
   ]
  },
  {
   "cell_type": "code",
   "execution_count": 13,
   "metadata": {},
   "outputs": [],
   "source": [
    "# python module for cleaning!\n",
    "%run ../modules/cleaning_helper1.py "
   ]
  },
  {
   "cell_type": "code",
   "execution_count": 14,
   "metadata": {},
   "outputs": [],
   "source": [
    "df1 = df.copy()"
   ]
  },
  {
   "cell_type": "code",
   "execution_count": 15,
   "metadata": {},
   "outputs": [],
   "source": [
    "# function imported from python module\n",
    "df1 = clean_column(df1, 'title', 'clean_title')"
   ]
  },
  {
   "cell_type": "code",
   "execution_count": 16,
   "metadata": {},
   "outputs": [],
   "source": [
    "df1 = clean_column(df1, 'text', 'clean_text')"
   ]
  },
  {
   "cell_type": "code",
   "execution_count": 17,
   "metadata": {},
   "outputs": [],
   "source": [
    "# function imported from python module\n",
    "filtration(df1, 'clean_title')"
   ]
  },
  {
   "cell_type": "code",
   "execution_count": 18,
   "metadata": {},
   "outputs": [],
   "source": [
    "filtration(df1, 'clean_text')"
   ]
  },
  {
   "cell_type": "code",
   "execution_count": 19,
   "metadata": {},
   "outputs": [
    {
     "data": {
      "text/html": [
       "<div>\n",
       "<style scoped>\n",
       "    .dataframe tbody tr th:only-of-type {\n",
       "        vertical-align: middle;\n",
       "    }\n",
       "\n",
       "    .dataframe tbody tr th {\n",
       "        vertical-align: top;\n",
       "    }\n",
       "\n",
       "    .dataframe thead th {\n",
       "        text-align: right;\n",
       "    }\n",
       "</style>\n",
       "<table border=\"1\" class=\"dataframe\">\n",
       "  <thead>\n",
       "    <tr style=\"text-align: right;\">\n",
       "      <th></th>\n",
       "      <th>author</th>\n",
       "      <th>link</th>\n",
       "      <th>published</th>\n",
       "      <th>text</th>\n",
       "      <th>title</th>\n",
       "      <th>label</th>\n",
       "      <th>clean_title</th>\n",
       "      <th>clean_text</th>\n",
       "    </tr>\n",
       "  </thead>\n",
       "  <tbody>\n",
       "    <tr>\n",
       "      <th>0</th>\n",
       "      <td>[David Streitfeld, Natasha Singer, Steven Erla...</td>\n",
       "      <td>https://www.nytimes.com/2018/03/24/technology/...</td>\n",
       "      <td>2018-03-24T20:43:21</td>\n",
       "      <td>There are other avenues still, said Jascha Kay...</td>\n",
       "      <td>How Calls for Privacy May Upend Business for F...</td>\n",
       "      <td>0</td>\n",
       "      <td>calls privacy may upend business facebook google</td>\n",
       "      <td>avenues still said jascha kaykas wolff chief m...</td>\n",
       "    </tr>\n",
       "    <tr>\n",
       "      <th>1</th>\n",
       "      <td>[Emily Flitter]</td>\n",
       "      <td>https://www.nytimes.com/2018/03/24/business/we...</td>\n",
       "      <td>2018-03-24T17:16:53</td>\n",
       "      <td>And so Mr. Tran, who is in his mid-50s and spe...</td>\n",
       "      <td>The Former Khmer Rouge Slave Who Blew the Whis...</td>\n",
       "      <td>0</td>\n",
       "      <td>former khmer rouge slave blew whistle wells fargo</td>\n",
       "      <td>mr tran mid 50s speaks english heavy vietnames...</td>\n",
       "    </tr>\n",
       "    <tr>\n",
       "      <th>2</th>\n",
       "      <td>[Keith Bradsher]</td>\n",
       "      <td>https://www.nytimes.com/2018/03/25/business/ch...</td>\n",
       "      <td>2018-03-25T15:21:56</td>\n",
       "      <td>In that analogy, Mr. Guo will essentially beco...</td>\n",
       "      <td>China Splits Top Jobs at Central Bank, Adding ...</td>\n",
       "      <td>0</td>\n",
       "      <td>china splits top jobs central bank adding anot...</td>\n",
       "      <td>analogy mr guo essentially become chairman chi...</td>\n",
       "    </tr>\n",
       "    <tr>\n",
       "      <th>3</th>\n",
       "      <td>[Ben Casselman]</td>\n",
       "      <td>https://www.nytimes.com/2018/03/24/business/jo...</td>\n",
       "      <td>2018-03-25T03:00:18</td>\n",
       "      <td>News of Mr. Williams’s likely selection was fi...</td>\n",
       "      <td>A Top Candidate for New York Fed’s Leader: San...</td>\n",
       "      <td>0</td>\n",
       "      <td>top candidate new york feds leader san franciscos</td>\n",
       "      <td>news mr williamss likely selection first repor...</td>\n",
       "    </tr>\n",
       "    <tr>\n",
       "      <th>4</th>\n",
       "      <td>[Jim Tankersley]</td>\n",
       "      <td>https://www.nytimes.com/2018/03/24/business/tr...</td>\n",
       "      <td>2018-03-24T14:34:10</td>\n",
       "      <td>What is increasingly clear to many on Capitol ...</td>\n",
       "      <td>Trump’s Tariffs Keep Allies, Markets and Indus...</td>\n",
       "      <td>0</td>\n",
       "      <td>trumps tariffs keep allies markets industry gu...</td>\n",
       "      <td>increasingly clear many capitol hill business ...</td>\n",
       "    </tr>\n",
       "  </tbody>\n",
       "</table>\n",
       "</div>"
      ],
      "text/plain": [
       "                                              author  \\\n",
       "0  [David Streitfeld, Natasha Singer, Steven Erla...   \n",
       "1                                    [Emily Flitter]   \n",
       "2                                   [Keith Bradsher]   \n",
       "3                                    [Ben Casselman]   \n",
       "4                                   [Jim Tankersley]   \n",
       "\n",
       "                                                link            published  \\\n",
       "0  https://www.nytimes.com/2018/03/24/technology/...  2018-03-24T20:43:21   \n",
       "1  https://www.nytimes.com/2018/03/24/business/we...  2018-03-24T17:16:53   \n",
       "2  https://www.nytimes.com/2018/03/25/business/ch...  2018-03-25T15:21:56   \n",
       "3  https://www.nytimes.com/2018/03/24/business/jo...  2018-03-25T03:00:18   \n",
       "4  https://www.nytimes.com/2018/03/24/business/tr...  2018-03-24T14:34:10   \n",
       "\n",
       "                                                text  \\\n",
       "0  There are other avenues still, said Jascha Kay...   \n",
       "1  And so Mr. Tran, who is in his mid-50s and spe...   \n",
       "2  In that analogy, Mr. Guo will essentially beco...   \n",
       "3  News of Mr. Williams’s likely selection was fi...   \n",
       "4  What is increasingly clear to many on Capitol ...   \n",
       "\n",
       "                                               title  label  \\\n",
       "0  How Calls for Privacy May Upend Business for F...      0   \n",
       "1  The Former Khmer Rouge Slave Who Blew the Whis...      0   \n",
       "2  China Splits Top Jobs at Central Bank, Adding ...      0   \n",
       "3  A Top Candidate for New York Fed’s Leader: San...      0   \n",
       "4  Trump’s Tariffs Keep Allies, Markets and Indus...      0   \n",
       "\n",
       "                                         clean_title  \\\n",
       "0   calls privacy may upend business facebook google   \n",
       "1  former khmer rouge slave blew whistle wells fargo   \n",
       "2  china splits top jobs central bank adding anot...   \n",
       "3  top candidate new york feds leader san franciscos   \n",
       "4  trumps tariffs keep allies markets industry gu...   \n",
       "\n",
       "                                          clean_text  \n",
       "0  avenues still said jascha kaykas wolff chief m...  \n",
       "1  mr tran mid 50s speaks english heavy vietnames...  \n",
       "2  analogy mr guo essentially become chairman chi...  \n",
       "3  news mr williamss likely selection first repor...  \n",
       "4  increasingly clear many capitol hill business ...  "
      ]
     },
     "execution_count": 19,
     "metadata": {},
     "output_type": "execute_result"
    }
   ],
   "source": [
    "df1.head()"
   ]
  },
  {
   "cell_type": "code",
   "execution_count": 20,
   "metadata": {},
   "outputs": [],
   "source": [
    "df1.to_pickle('../saved_files/cleaned_df.pkl')"
   ]
  },
  {
   "cell_type": "code",
   "execution_count": null,
   "metadata": {},
   "outputs": [],
   "source": []
  }
 ],
 "metadata": {
  "kernelspec": {
   "display_name": "Python 3",
   "language": "python",
   "name": "python3"
  },
  "language_info": {
   "codemirror_mode": {
    "name": "ipython",
    "version": 3
   },
   "file_extension": ".py",
   "mimetype": "text/x-python",
   "name": "python",
   "nbconvert_exporter": "python",
   "pygments_lexer": "ipython3",
   "version": "3.6.4"
  }
 },
 "nbformat": 4,
 "nbformat_minor": 2
}
