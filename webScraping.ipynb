{
  "nbformat": 4,
  "nbformat_minor": 0,
  "metadata": {
    "colab": {
      "name": "webScraping.ipynb",
      "provenance": [],
      "collapsed_sections": []
    },
    "kernelspec": {
      "name": "python3",
      "display_name": "Python 3"
    }
  },
  "cells": [
    {
      "cell_type": "code",
      "metadata": {
        "id": "S2ioofRNvNK-",
        "colab_type": "code",
        "colab": {}
      },
      "source": [
        "import pandas as pd"
      ],
      "execution_count": 0,
      "outputs": []
    },
    {
      "cell_type": "code",
      "metadata": {
        "id": "v2MYwpczLsa7",
        "colab_type": "code",
        "colab": {}
      },
      "source": [
        ""
      ],
      "execution_count": 0,
      "outputs": []
    },
    {
      "cell_type": "code",
      "metadata": {
        "id": "UrAUKV-AwWOv",
        "colab_type": "code",
        "colab": {}
      },
      "source": [
        "# pip install BeautifulSoup4 request lxml"
      ],
      "execution_count": 0,
      "outputs": []
    },
    {
      "cell_type": "code",
      "metadata": {
        "id": "OdsgUJkoHNbL",
        "colab_type": "code",
        "outputId": "b8f6eab2-de11-4882-f38e-341fdbc7537b",
        "colab": {
          "base_uri": "https://localhost:8080/",
          "height": 125
        }
      },
      "source": [
        "# Load the Drive helper and mount\n",
        "from google.colab import drive\n",
        "\n",
        "# This will prompt for authorization.\n",
        "drive.mount('/content/drive/')\n",
        "\n",
        "#lists the content of your google drive"
      ],
      "execution_count": 0,
      "outputs": [
        {
          "output_type": "stream",
          "text": [
            "Go to this URL in a browser: https://accounts.google.com/o/oauth2/auth?client_id=947318989803-6bn6qk8qdgf4n4g3pfee6491hc0brc4i.apps.googleusercontent.com&redirect_uri=urn%3aietf%3awg%3aoauth%3a2.0%3aoob&response_type=code&scope=email%20https%3a%2f%2fwww.googleapis.com%2fauth%2fdocs.test%20https%3a%2f%2fwww.googleapis.com%2fauth%2fdrive%20https%3a%2f%2fwww.googleapis.com%2fauth%2fdrive.photos.readonly%20https%3a%2f%2fwww.googleapis.com%2fauth%2fpeopleapi.readonly\n",
            "\n",
            "Enter your authorization code:\n",
            "··········\n",
            "Mounted at /content/drive/\n"
          ],
          "name": "stdout"
        }
      ]
    },
    {
      "cell_type": "code",
      "metadata": {
        "id": "cqQgZEMLwEF4",
        "colab_type": "code",
        "colab": {}
      },
      "source": [
        "import requests\n",
        "from bs4 import BeautifulSoup"
      ],
      "execution_count": 0,
      "outputs": []
    },
    {
      "cell_type": "code",
      "metadata": {
        "id": "WyZdoFiAEOeZ",
        "colab_type": "code",
        "outputId": "869af53a-cc04-4513-f6f9-af41ac6847a5",
        "colab": {
          "base_uri": "https://localhost:8080/",
          "height": 1000
        }
      },
      "source": [
        "# https://www.antifakenewscenter.com/page/1/?s&order_by=date\n",
        "\n",
        "urlPre = 'https://www.antifakenewscenter.com/page/'\n",
        "urlSub = '/?s&order_by=date'\n",
        "rows = []\n",
        "\n",
        "for i in range(1,73):\n",
        "  urlFull = urlPre + str(i) + urlSub\n",
        "  print(urlFull)\n",
        "  r = requests.get(urlFull)\n",
        "  s = BeautifulSoup(r.text, 'lxml')\n",
        "  d = s.find('div', {'id':'page-search'})\n",
        "  tag = d.find_all('p')\n",
        "  for e in tag:\n",
        "    title =  e \n",
        "    label = 'null'\n",
        "    rows.append((title,label))\n",
        " \n",
        " "
      ],
      "execution_count": 0,
      "outputs": [
        {
          "output_type": "stream",
          "text": [
            "https://www.antifakenewscenter.com/page/1/?s&order_by=date\n",
            "https://www.antifakenewscenter.com/page/2/?s&order_by=date\n",
            "https://www.antifakenewscenter.com/page/3/?s&order_by=date\n",
            "https://www.antifakenewscenter.com/page/4/?s&order_by=date\n",
            "https://www.antifakenewscenter.com/page/5/?s&order_by=date\n",
            "https://www.antifakenewscenter.com/page/6/?s&order_by=date\n",
            "https://www.antifakenewscenter.com/page/7/?s&order_by=date\n",
            "https://www.antifakenewscenter.com/page/8/?s&order_by=date\n",
            "https://www.antifakenewscenter.com/page/9/?s&order_by=date\n",
            "https://www.antifakenewscenter.com/page/10/?s&order_by=date\n",
            "https://www.antifakenewscenter.com/page/11/?s&order_by=date\n",
            "https://www.antifakenewscenter.com/page/12/?s&order_by=date\n",
            "https://www.antifakenewscenter.com/page/13/?s&order_by=date\n",
            "https://www.antifakenewscenter.com/page/14/?s&order_by=date\n",
            "https://www.antifakenewscenter.com/page/15/?s&order_by=date\n",
            "https://www.antifakenewscenter.com/page/16/?s&order_by=date\n",
            "https://www.antifakenewscenter.com/page/17/?s&order_by=date\n",
            "https://www.antifakenewscenter.com/page/18/?s&order_by=date\n",
            "https://www.antifakenewscenter.com/page/19/?s&order_by=date\n",
            "https://www.antifakenewscenter.com/page/20/?s&order_by=date\n",
            "https://www.antifakenewscenter.com/page/21/?s&order_by=date\n",
            "https://www.antifakenewscenter.com/page/22/?s&order_by=date\n",
            "https://www.antifakenewscenter.com/page/23/?s&order_by=date\n",
            "https://www.antifakenewscenter.com/page/24/?s&order_by=date\n",
            "https://www.antifakenewscenter.com/page/25/?s&order_by=date\n",
            "https://www.antifakenewscenter.com/page/26/?s&order_by=date\n",
            "https://www.antifakenewscenter.com/page/27/?s&order_by=date\n",
            "https://www.antifakenewscenter.com/page/28/?s&order_by=date\n",
            "https://www.antifakenewscenter.com/page/29/?s&order_by=date\n",
            "https://www.antifakenewscenter.com/page/30/?s&order_by=date\n",
            "https://www.antifakenewscenter.com/page/31/?s&order_by=date\n",
            "https://www.antifakenewscenter.com/page/32/?s&order_by=date\n",
            "https://www.antifakenewscenter.com/page/33/?s&order_by=date\n",
            "https://www.antifakenewscenter.com/page/34/?s&order_by=date\n",
            "https://www.antifakenewscenter.com/page/35/?s&order_by=date\n",
            "https://www.antifakenewscenter.com/page/36/?s&order_by=date\n",
            "https://www.antifakenewscenter.com/page/37/?s&order_by=date\n",
            "https://www.antifakenewscenter.com/page/38/?s&order_by=date\n",
            "https://www.antifakenewscenter.com/page/39/?s&order_by=date\n",
            "https://www.antifakenewscenter.com/page/40/?s&order_by=date\n",
            "https://www.antifakenewscenter.com/page/41/?s&order_by=date\n",
            "https://www.antifakenewscenter.com/page/42/?s&order_by=date\n",
            "https://www.antifakenewscenter.com/page/43/?s&order_by=date\n",
            "https://www.antifakenewscenter.com/page/44/?s&order_by=date\n",
            "https://www.antifakenewscenter.com/page/45/?s&order_by=date\n",
            "https://www.antifakenewscenter.com/page/46/?s&order_by=date\n",
            "https://www.antifakenewscenter.com/page/47/?s&order_by=date\n",
            "https://www.antifakenewscenter.com/page/48/?s&order_by=date\n",
            "https://www.antifakenewscenter.com/page/49/?s&order_by=date\n",
            "https://www.antifakenewscenter.com/page/50/?s&order_by=date\n",
            "https://www.antifakenewscenter.com/page/51/?s&order_by=date\n",
            "https://www.antifakenewscenter.com/page/52/?s&order_by=date\n",
            "https://www.antifakenewscenter.com/page/53/?s&order_by=date\n",
            "https://www.antifakenewscenter.com/page/54/?s&order_by=date\n",
            "https://www.antifakenewscenter.com/page/55/?s&order_by=date\n",
            "https://www.antifakenewscenter.com/page/56/?s&order_by=date\n",
            "https://www.antifakenewscenter.com/page/57/?s&order_by=date\n",
            "https://www.antifakenewscenter.com/page/58/?s&order_by=date\n",
            "https://www.antifakenewscenter.com/page/59/?s&order_by=date\n",
            "https://www.antifakenewscenter.com/page/60/?s&order_by=date\n",
            "https://www.antifakenewscenter.com/page/61/?s&order_by=date\n",
            "https://www.antifakenewscenter.com/page/62/?s&order_by=date\n",
            "https://www.antifakenewscenter.com/page/63/?s&order_by=date\n",
            "https://www.antifakenewscenter.com/page/64/?s&order_by=date\n",
            "https://www.antifakenewscenter.com/page/65/?s&order_by=date\n",
            "https://www.antifakenewscenter.com/page/66/?s&order_by=date\n",
            "https://www.antifakenewscenter.com/page/67/?s&order_by=date\n",
            "https://www.antifakenewscenter.com/page/68/?s&order_by=date\n",
            "https://www.antifakenewscenter.com/page/69/?s&order_by=date\n",
            "https://www.antifakenewscenter.com/page/70/?s&order_by=date\n",
            "https://www.antifakenewscenter.com/page/71/?s&order_by=date\n",
            "https://www.antifakenewscenter.com/page/72/?s&order_by=date\n"
          ],
          "name": "stdout"
        }
      ]
    },
    {
      "cell_type": "code",
      "metadata": {
        "id": "dimmbtIgF0lK",
        "colab_type": "code",
        "outputId": "960e24cd-df04-4b0b-ff9b-d4b0b2127a19",
        "colab": {
          "base_uri": "https://localhost:8080/",
          "height": 34
        }
      },
      "source": [
        "rows[:5]\n",
        "print(len(rows))"
      ],
      "execution_count": 0,
      "outputs": [
        {
          "output_type": "stream",
          "text": [
            "644\n"
          ],
          "name": "stdout"
        }
      ]
    },
    {
      "cell_type": "code",
      "metadata": {
        "id": "3c02tifgFc0e",
        "colab_type": "code",
        "outputId": "f630ea6b-0cce-4f90-f8cf-1c0c62274190",
        "colab": {
          "base_uri": "https://localhost:8080/",
          "height": 34
        }
      },
      "source": [
        "df = pd.DataFrame(rows, columns=['title','label'])\n",
        "df.shape"
      ],
      "execution_count": 0,
      "outputs": [
        {
          "output_type": "execute_result",
          "data": {
            "text/plain": [
              "(644, 2)"
            ]
          },
          "metadata": {
            "tags": []
          },
          "execution_count": 13
        }
      ]
    },
    {
      "cell_type": "code",
      "metadata": {
        "id": "EHmlDIPL6e1n",
        "colab_type": "code",
        "outputId": "01b57c44-b27e-4702-ec75-703b15967083",
        "colab": {
          "base_uri": "https://localhost:8080/",
          "height": 197
        }
      },
      "source": [
        "\n",
        "df.head()"
      ],
      "execution_count": 0,
      "outputs": [
        {
          "output_type": "execute_result",
          "data": {
            "text/html": [
              "<div>\n",
              "<style scoped>\n",
              "    .dataframe tbody tr th:only-of-type {\n",
              "        vertical-align: middle;\n",
              "    }\n",
              "\n",
              "    .dataframe tbody tr th {\n",
              "        vertical-align: top;\n",
              "    }\n",
              "\n",
              "    .dataframe thead th {\n",
              "        text-align: right;\n",
              "    }\n",
              "</style>\n",
              "<table border=\"1\" class=\"dataframe\">\n",
              "  <thead>\n",
              "    <tr style=\"text-align: right;\">\n",
              "      <th></th>\n",
              "      <th>title</th>\n",
              "      <th>label</th>\n",
              "    </tr>\n",
              "  </thead>\n",
              "  <tbody>\n",
              "    <tr>\n",
              "      <th>0</th>\n",
              "      <td>[เตรียมรองรับคนไทย ที่ทยอยเดินทางกลับจากต่างปร...</td>\n",
              "      <td>null</td>\n",
              "    </tr>\n",
              "    <tr>\n",
              "      <th>1</th>\n",
              "      <td>[ข่าวปลอม อย่าแชร์! ดื่มเบกกิ้งโซดา ช่วยให้ออก...</td>\n",
              "      <td>null</td>\n",
              "    </tr>\n",
              "    <tr>\n",
              "      <th>2</th>\n",
              "      <td>[ข่าวปลอม อย่าแชร์! ล้างไขมันในลำไส้ ด้วยชามะล...</td>\n",
              "      <td>null</td>\n",
              "    </tr>\n",
              "    <tr>\n",
              "      <th>3</th>\n",
              "      <td>[ข่าวบิดเบือน อย่าแชร์! กระเทียมไทย ช่วยต้านไว...</td>\n",
              "      <td>null</td>\n",
              "    </tr>\n",
              "    <tr>\n",
              "      <th>4</th>\n",
              "      <td>[ข่าวปลอม อย่าแชร์! พบผู้ติดเชื้อโควิด-19 จำนว...</td>\n",
              "      <td>null</td>\n",
              "    </tr>\n",
              "  </tbody>\n",
              "</table>\n",
              "</div>"
            ],
            "text/plain": [
              "                                               title label\n",
              "0  [เตรียมรองรับคนไทย ที่ทยอยเดินทางกลับจากต่างปร...  null\n",
              "1  [ข่าวปลอม อย่าแชร์! ดื่มเบกกิ้งโซดา ช่วยให้ออก...  null\n",
              "2  [ข่าวปลอม อย่าแชร์! ล้างไขมันในลำไส้ ด้วยชามะล...  null\n",
              "3  [ข่าวบิดเบือน อย่าแชร์! กระเทียมไทย ช่วยต้านไว...  null\n",
              "4  [ข่าวปลอม อย่าแชร์! พบผู้ติดเชื้อโควิด-19 จำนว...  null"
            ]
          },
          "metadata": {
            "tags": []
          },
          "execution_count": 14
        }
      ]
    },
    {
      "cell_type": "code",
      "metadata": {
        "id": "GxkUu-kaC_bp",
        "colab_type": "code",
        "outputId": "ed0ae008-6824-4219-de1b-f156ddc2b0a8",
        "colab": {
          "base_uri": "https://localhost:8080/",
          "height": 72
        }
      },
      "source": [
        "pd.set_option('display.max_colwidth',-1)"
      ],
      "execution_count": 0,
      "outputs": [
        {
          "output_type": "stream",
          "text": [
            "/usr/local/lib/python3.6/dist-packages/ipykernel_launcher.py:1: FutureWarning: Passing a negative integer is deprecated in version 1.0 and will not be supported in future version. Instead, use None to not limit the column width.\n",
            "  \"\"\"Entry point for launching an IPython kernel.\n"
          ],
          "name": "stderr"
        }
      ]
    },
    {
      "cell_type": "code",
      "metadata": {
        "id": "nRoEARONHMGd",
        "colab_type": "code",
        "colab": {}
      },
      "source": [
        ""
      ],
      "execution_count": 0,
      "outputs": []
    },
    {
      "cell_type": "code",
      "metadata": {
        "id": "TSEaOtU9DIGC",
        "colab_type": "code",
        "colab": {}
      },
      "source": [
        "df.to_csv('/content/drive/My Drive/NLP/dataset.csv', index=False)"
      ],
      "execution_count": 0,
      "outputs": []
    },
    {
      "cell_type": "code",
      "metadata": {
        "id": "fc36muM8HXUH",
        "colab_type": "code",
        "colab": {}
      },
      "source": [
        ""
      ],
      "execution_count": 0,
      "outputs": []
    }
  ]
}