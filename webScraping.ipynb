{
 "cells": [
  {
   "cell_type": "code",
   "execution_count": 2,
   "metadata": {
    "colab": {},
    "colab_type": "code",
    "id": "S2ioofRNvNK-"
   },
   "outputs": [],
   "source": [
    "import pandas as pd\n",
    "import requests\n",
    "from bs4 import BeautifulSoup"
   ]
  },
  {
   "cell_type": "code",
   "execution_count": 3,
   "metadata": {},
   "outputs": [],
   "source": [
    "def prepro(title):\n",
    "    if(title.find('ข่าวปลอม อย่าแชร์!') != -1): # found given string\n",
    "        label = 'fake'\n",
    "        title = title[19:]\n",
    "#         print(label,title)\n",
    "    elif(title.find('ข่าวบิดเบือน อย่าแชร์!') != -1):\n",
    "        label = 'incorrect'\n",
    "        title = title[23:]\n",
    "#         print(label,title)\n",
    "    else: \n",
    "        label = 'real'\n",
    "        title = title[:len(title)-10]\n",
    "        \n",
    "    return title, label"
   ]
  },
  {
   "cell_type": "code",
   "execution_count": 4,
   "metadata": {
    "colab": {
     "base_uri": "https://localhost:8080/",
     "height": 1000
    },
    "colab_type": "code",
    "id": "WyZdoFiAEOeZ",
    "outputId": "869af53a-cc04-4513-f6f9-af41ac6847a5"
   },
   "outputs": [
    {
     "name": "stdout",
     "output_type": "stream",
     "text": [
      "https://www.antifakenewscenter.com/page/1/?s&order_by=date\n",
      "https://www.antifakenewscenter.com/page/2/?s&order_by=date\n",
      "https://www.antifakenewscenter.com/page/3/?s&order_by=date\n",
      "https://www.antifakenewscenter.com/page/4/?s&order_by=date\n",
      "https://www.antifakenewscenter.com/page/5/?s&order_by=date\n",
      "https://www.antifakenewscenter.com/page/6/?s&order_by=date\n",
      "https://www.antifakenewscenter.com/page/7/?s&order_by=date\n",
      "https://www.antifakenewscenter.com/page/8/?s&order_by=date\n",
      "https://www.antifakenewscenter.com/page/9/?s&order_by=date\n",
      "https://www.antifakenewscenter.com/page/10/?s&order_by=date\n",
      "https://www.antifakenewscenter.com/page/11/?s&order_by=date\n",
      "https://www.antifakenewscenter.com/page/12/?s&order_by=date\n",
      "https://www.antifakenewscenter.com/page/13/?s&order_by=date\n",
      "https://www.antifakenewscenter.com/page/14/?s&order_by=date\n",
      "https://www.antifakenewscenter.com/page/15/?s&order_by=date\n",
      "https://www.antifakenewscenter.com/page/16/?s&order_by=date\n",
      "https://www.antifakenewscenter.com/page/17/?s&order_by=date\n",
      "https://www.antifakenewscenter.com/page/18/?s&order_by=date\n",
      "https://www.antifakenewscenter.com/page/19/?s&order_by=date\n",
      "https://www.antifakenewscenter.com/page/20/?s&order_by=date\n",
      "https://www.antifakenewscenter.com/page/21/?s&order_by=date\n",
      "https://www.antifakenewscenter.com/page/22/?s&order_by=date\n",
      "https://www.antifakenewscenter.com/page/23/?s&order_by=date\n",
      "https://www.antifakenewscenter.com/page/24/?s&order_by=date\n",
      "https://www.antifakenewscenter.com/page/25/?s&order_by=date\n",
      "https://www.antifakenewscenter.com/page/26/?s&order_by=date\n",
      "https://www.antifakenewscenter.com/page/27/?s&order_by=date\n",
      "https://www.antifakenewscenter.com/page/28/?s&order_by=date\n",
      "https://www.antifakenewscenter.com/page/29/?s&order_by=date\n",
      "https://www.antifakenewscenter.com/page/30/?s&order_by=date\n",
      "https://www.antifakenewscenter.com/page/31/?s&order_by=date\n",
      "https://www.antifakenewscenter.com/page/32/?s&order_by=date\n",
      "https://www.antifakenewscenter.com/page/33/?s&order_by=date\n",
      "https://www.antifakenewscenter.com/page/34/?s&order_by=date\n",
      "https://www.antifakenewscenter.com/page/35/?s&order_by=date\n",
      "https://www.antifakenewscenter.com/page/36/?s&order_by=date\n",
      "https://www.antifakenewscenter.com/page/37/?s&order_by=date\n",
      "https://www.antifakenewscenter.com/page/38/?s&order_by=date\n",
      "https://www.antifakenewscenter.com/page/39/?s&order_by=date\n",
      "https://www.antifakenewscenter.com/page/40/?s&order_by=date\n",
      "https://www.antifakenewscenter.com/page/41/?s&order_by=date\n",
      "https://www.antifakenewscenter.com/page/42/?s&order_by=date\n",
      "https://www.antifakenewscenter.com/page/43/?s&order_by=date\n",
      "https://www.antifakenewscenter.com/page/44/?s&order_by=date\n",
      "https://www.antifakenewscenter.com/page/45/?s&order_by=date\n",
      "https://www.antifakenewscenter.com/page/46/?s&order_by=date\n",
      "https://www.antifakenewscenter.com/page/47/?s&order_by=date\n",
      "https://www.antifakenewscenter.com/page/48/?s&order_by=date\n",
      "https://www.antifakenewscenter.com/page/49/?s&order_by=date\n",
      "https://www.antifakenewscenter.com/page/50/?s&order_by=date\n",
      "https://www.antifakenewscenter.com/page/51/?s&order_by=date\n",
      "https://www.antifakenewscenter.com/page/52/?s&order_by=date\n",
      "https://www.antifakenewscenter.com/page/53/?s&order_by=date\n",
      "https://www.antifakenewscenter.com/page/54/?s&order_by=date\n",
      "https://www.antifakenewscenter.com/page/55/?s&order_by=date\n",
      "https://www.antifakenewscenter.com/page/56/?s&order_by=date\n",
      "https://www.antifakenewscenter.com/page/57/?s&order_by=date\n",
      "https://www.antifakenewscenter.com/page/58/?s&order_by=date\n",
      "https://www.antifakenewscenter.com/page/59/?s&order_by=date\n",
      "https://www.antifakenewscenter.com/page/60/?s&order_by=date\n",
      "https://www.antifakenewscenter.com/page/61/?s&order_by=date\n",
      "https://www.antifakenewscenter.com/page/62/?s&order_by=date\n",
      "https://www.antifakenewscenter.com/page/63/?s&order_by=date\n",
      "https://www.antifakenewscenter.com/page/64/?s&order_by=date\n",
      "https://www.antifakenewscenter.com/page/65/?s&order_by=date\n",
      "https://www.antifakenewscenter.com/page/66/?s&order_by=date\n",
      "https://www.antifakenewscenter.com/page/67/?s&order_by=date\n",
      "https://www.antifakenewscenter.com/page/68/?s&order_by=date\n",
      "https://www.antifakenewscenter.com/page/69/?s&order_by=date\n",
      "https://www.antifakenewscenter.com/page/70/?s&order_by=date\n",
      "https://www.antifakenewscenter.com/page/71/?s&order_by=date\n",
      "https://www.antifakenewscenter.com/page/72/?s&order_by=date\n"
     ]
    }
   ],
   "source": [
    "# https://www.antifakenewscenter.com/page/1/?s&order_by=date\n",
    "\n",
    "urlPre = 'https://www.antifakenewscenter.com/page/'\n",
    "urlSub = '/?s&order_by=date'\n",
    "rows = []\n",
    "\n",
    "for i in range(1,73):\n",
    "  urlFull = urlPre + str(i) + urlSub\n",
    "  print(urlFull)\n",
    "  r = requests.get(urlFull)\n",
    "  s = BeautifulSoup(r.text, 'lxml')\n",
    "  d = s.find('div', {'id':'page-search'})\n",
    "  tag = d.find_all('p')\n",
    "  for e in tag:\n",
    "    lonTitle =  str(e) # title without preprocessing\n",
    "    title = lonTitle[3:len(lonTitle)-4]\n",
    "    title, label = prepro(title)\n",
    "    rows.append((lonTitle,title,label))"
   ]
  },
  {
   "cell_type": "code",
   "execution_count": 5,
   "metadata": {
    "colab": {
     "base_uri": "https://localhost:8080/",
     "height": 34
    },
    "colab_type": "code",
    "id": "dimmbtIgF0lK",
    "outputId": "960e24cd-df04-4b0b-ff9b-d4b0b2127a19"
   },
   "outputs": [
    {
     "name": "stdout",
     "output_type": "stream",
     "text": [
      "644\n"
     ]
    }
   ],
   "source": [
    "rows[:5]\n",
    "print(len(rows))"
   ]
  },
  {
   "cell_type": "code",
   "execution_count": 6,
   "metadata": {
    "colab": {
     "base_uri": "https://localhost:8080/",
     "height": 34
    },
    "colab_type": "code",
    "id": "3c02tifgFc0e",
    "outputId": "f630ea6b-0cce-4f90-f8cf-1c0c62274190"
   },
   "outputs": [
    {
     "data": {
      "text/plain": [
       "(644, 3)"
      ]
     },
     "execution_count": 6,
     "metadata": {},
     "output_type": "execute_result"
    }
   ],
   "source": [
    "df = pd.DataFrame(rows, columns=['full-title','title','label'])\n",
    "df.shape"
   ]
  },
  {
   "cell_type": "code",
   "execution_count": 7,
   "metadata": {
    "colab": {
     "base_uri": "https://localhost:8080/",
     "height": 72
    },
    "colab_type": "code",
    "id": "GxkUu-kaC_bp",
    "outputId": "ed0ae008-6824-4219-de1b-f156ddc2b0a8"
   },
   "outputs": [],
   "source": [
    "pd.set_option('display.max_colwidth',-1)"
   ]
  },
  {
   "cell_type": "code",
   "execution_count": 8,
   "metadata": {
    "colab": {
     "base_uri": "https://localhost:8080/",
     "height": 197
    },
    "colab_type": "code",
    "id": "EHmlDIPL6e1n",
    "outputId": "01b57c44-b27e-4702-ec75-703b15967083"
   },
   "outputs": [
    {
     "data": {
      "text/html": [
       "<div>\n",
       "<style scoped>\n",
       "    .dataframe tbody tr th:only-of-type {\n",
       "        vertical-align: middle;\n",
       "    }\n",
       "\n",
       "    .dataframe tbody tr th {\n",
       "        vertical-align: top;\n",
       "    }\n",
       "\n",
       "    .dataframe thead th {\n",
       "        text-align: right;\n",
       "    }\n",
       "</style>\n",
       "<table border=\"1\" class=\"dataframe\">\n",
       "  <thead>\n",
       "    <tr style=\"text-align: right;\">\n",
       "      <th></th>\n",
       "      <th>full-title</th>\n",
       "      <th>title</th>\n",
       "      <th>label</th>\n",
       "    </tr>\n",
       "  </thead>\n",
       "  <tbody>\n",
       "    <tr>\n",
       "      <td>0</td>\n",
       "      <td>&lt;p&gt;เตรียมรองรับคนไทย ที่ทยอยเดินทางกลับจากต่างประเทศกว่า 7 พันคน จริงหรือ?&lt;/p&gt;</td>\n",
       "      <td>เตรียมรองรับคนไทย ที่ทยอยเดินทางกลับจากต่างประเทศกว่า 7 พันคน</td>\n",
       "      <td>real</td>\n",
       "    </tr>\n",
       "    <tr>\n",
       "      <td>1</td>\n",
       "      <td>&lt;p&gt;ข่าวปลอม อย่าแชร์! ดื่มเบกกิ้งโซดา ช่วยให้ออกกำลังกายได้นานขึ้น&lt;/p&gt;</td>\n",
       "      <td>ดื่มเบกกิ้งโซดา ช่วยให้ออกกำลังกายได้นานขึ้น</td>\n",
       "      <td>fake</td>\n",
       "    </tr>\n",
       "    <tr>\n",
       "      <td>2</td>\n",
       "      <td>&lt;p&gt;ข่าวปลอม อย่าแชร์! ล้างไขมันในลำไส้ ด้วยชามะละกอ&lt;/p&gt;</td>\n",
       "      <td>ล้างไขมันในลำไส้ ด้วยชามะละกอ</td>\n",
       "      <td>fake</td>\n",
       "    </tr>\n",
       "    <tr>\n",
       "      <td>3</td>\n",
       "      <td>&lt;p&gt;ข่าวบิดเบือน อย่าแชร์! กระเทียมไทย ช่วยต้านไวรัสโควิด-19&lt;/p&gt;</td>\n",
       "      <td>กระเทียมไทย ช่วยต้านไวรัสโควิด-19</td>\n",
       "      <td>incorrect</td>\n",
       "    </tr>\n",
       "    <tr>\n",
       "      <td>4</td>\n",
       "      <td>&lt;p&gt;ข่าวปลอม อย่าแชร์! พบผู้ติดเชื้อโควิด-19 จำนวน 3 คน ที่ตลาดเสรี จ.นครปฐม&lt;/p&gt;</td>\n",
       "      <td>พบผู้ติดเชื้อโควิด-19 จำนวน 3 คน ที่ตลาดเสรี จ.นครปฐม</td>\n",
       "      <td>fake</td>\n",
       "    </tr>\n",
       "  </tbody>\n",
       "</table>\n",
       "</div>"
      ],
      "text/plain": [
       "                                                                        full-title  \\\n",
       "0  <p>เตรียมรองรับคนไทย ที่ทยอยเดินทางกลับจากต่างประเทศกว่า 7 พันคน จริงหรือ?</p>    \n",
       "1  <p>ข่าวปลอม อย่าแชร์! ดื่มเบกกิ้งโซดา ช่วยให้ออกกำลังกายได้นานขึ้น</p>            \n",
       "2  <p>ข่าวปลอม อย่าแชร์! ล้างไขมันในลำไส้ ด้วยชามะละกอ</p>                           \n",
       "3  <p>ข่าวบิดเบือน อย่าแชร์! กระเทียมไทย ช่วยต้านไวรัสโควิด-19</p>                   \n",
       "4  <p>ข่าวปลอม อย่าแชร์! พบผู้ติดเชื้อโควิด-19 จำนวน 3 คน ที่ตลาดเสรี จ.นครปฐม</p>   \n",
       "\n",
       "                                                           title      label  \n",
       "0  เตรียมรองรับคนไทย ที่ทยอยเดินทางกลับจากต่างประเทศกว่า 7 พันคน  real       \n",
       "1  ดื่มเบกกิ้งโซดา ช่วยให้ออกกำลังกายได้นานขึ้น                   fake       \n",
       "2  ล้างไขมันในลำไส้ ด้วยชามะละกอ                                  fake       \n",
       "3  กระเทียมไทย ช่วยต้านไวรัสโควิด-19                              incorrect  \n",
       "4  พบผู้ติดเชื้อโควิด-19 จำนวน 3 คน ที่ตลาดเสรี จ.นครปฐม          fake       "
      ]
     },
     "execution_count": 8,
     "metadata": {},
     "output_type": "execute_result"
    }
   ],
   "source": [
    "df.head()"
   ]
  },
  {
   "cell_type": "code",
   "execution_count": 9,
   "metadata": {
    "colab": {},
    "colab_type": "code",
    "id": "TSEaOtU9DIGC"
   },
   "outputs": [],
   "source": [
    "df.to_csv('C:/Users/voodoo/Desktop/NLP/fake-news/dataset.csv', index=False ,encoding='utf-8-sig')"
   ]
  },
  {
   "cell_type": "code",
   "execution_count": 0,
   "metadata": {
    "colab": {},
    "colab_type": "code",
    "id": "fc36muM8HXUH"
   },
   "outputs": [],
   "source": []
  }
 ],
 "metadata": {
  "colab": {
   "collapsed_sections": [],
   "name": "webScraping.ipynb",
   "provenance": []
  },
  "kernelspec": {
   "display_name": "Python 3",
   "language": "python",
   "name": "python3"
  },
  "language_info": {
   "codemirror_mode": {
    "name": "ipython",
    "version": 3
   },
   "file_extension": ".py",
   "mimetype": "text/x-python",
   "name": "python",
   "nbconvert_exporter": "python",
   "pygments_lexer": "ipython3",
   "version": "3.7.4"
  }
 },
 "nbformat": 4,
 "nbformat_minor": 1
}
